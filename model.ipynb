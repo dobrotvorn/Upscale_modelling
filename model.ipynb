{
  "nbformat": 4,
  "nbformat_minor": 0,
  "metadata": {
    "colab": {
      "provenance": [],
      "authorship_tag": "ABX9TyPsbFVdi7nchWmRMf1YM3Uh",
      "include_colab_link": true
    },
    "kernelspec": {
      "name": "python3",
      "display_name": "Python 3"
    },
    "language_info": {
      "name": "python"
    }
  },
  "cells": [
    {
      "cell_type": "markdown",
      "metadata": {
        "id": "view-in-github",
        "colab_type": "text"
      },
      "source": [
        "<a href=\"https://colab.research.google.com/github/dobrotvorn/Upscale_modelling/blob/main/model.ipynb\" target=\"_parent\"><img src=\"https://colab.research.google.com/assets/colab-badge.svg\" alt=\"Open In Colab\"/></a>"
      ]
    },
    {
      "cell_type": "markdown",
      "source": [
        "About\n",
        "\n",
        "\n",
        "*Binary Super Resolution Challenge by Faculty of Computer Science and AI Centre*"
      ],
      "metadata": {
        "id": "UroLIEWvTMTn"
      }
    },
    {
      "cell_type": "code",
      "source": [],
      "metadata": {
        "id": "dWUqkl36TV3V"
      },
      "execution_count": null,
      "outputs": []
    }
  ]
}